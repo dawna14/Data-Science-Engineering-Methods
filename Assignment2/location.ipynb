{
 "cells": [
  {
   "cell_type": "code",
   "execution_count": 18,
   "metadata": {},
   "outputs": [],
   "source": [
    "# import libraries\n",
    "import pandas as pd\n",
    "import string\n",
    "import collections\n",
    "import glob\n",
    "import csv\n",
    "import os"
   ]
  },
  {
   "cell_type": "code",
   "execution_count": 22,
   "metadata": {},
   "outputs": [
    {
     "name": "stdout",
     "output_type": "stream",
     "text": [
      "jersey city\n",
      "united\n",
      "jersey\n",
      "y city\n",
      "jersey\n",
      "tate\n"
     ]
    }
   ],
   "source": [
    "#Functions to clean data:\n",
    "#Function removes stop words, punctuation\n",
    "def clean_text(text):\n",
    "    text = str(text)\n",
    "    text = text.replace(\"-\", \" \")\n",
    "    text = text.replace(\"/\", \" \")\n",
    "    text = text.lower()\n",
    "    return text\n",
    "\n",
    "#Function to remove plurals\n",
    "def lemmatize(tokens):\n",
    "    \"\"\" Removes plurals \"\"\"\n",
    "    return [lemmatizer.lemmatize(token) for token in tokens]\n",
    "\n",
    "#Function to create ngram, bigram, trigram\n",
    "def count_ngrams(tokens,n):\n",
    "    n_grams = ngrams(tokens, n)\n",
    "    ngram_freq = collections.Counter(n_grams)\n",
    "    ngram_freq = ngram_freq.most_common(100)\n",
    "    return ngram_freq\n",
    "\n",
    "#Function to create dictionary of words and frequencies:\n",
    "def ngram_to_dict(ngram_freq):\n",
    "    l = []\n",
    "    for t in ngram_freq:\n",
    "        l.append((' '.join(t[0]),t[1]))\n",
    "    return dict(l)\n",
    "\n",
    "locations = pd.read_csv('uscitiesv1.4.csv')\n",
    "merged_banks = pd.read_csv('merged_data_all_banks.csv')\n",
    "\"\"\"\n",
    "for index_bank,row_bank in merged_banks.iterrows():\n",
    "    for index_location,row_location in locations.iterrows():\n",
    "        if((str(locations['city_ascii'][index_location]).lower() in clean_text(merged_banks['Job Title'][index_bank])) or \n",
    "          (str(locations['city_ascii'][index_location]).lower() in clean_text(merged_banks['URL'][index_bank]))):\n",
    "            addtocsv = locations['city_ascii'][index_location]\n",
    "        elif(str(locations['city_ascii'][index_location]).lower() in clean_text(merged_banks['Job Desc'][index_bank])):\n",
    "            addtocsv = locations['city_ascii'][index_location]\n",
    "        with open('locations_test.csv', \"a\", newline='') as csvFile:\n",
    "            wr = csv.writer(csvFile, dialect='excel')\n",
    "            try:\n",
    "                wr.writerow(addtocsv)\n",
    "            except:\n",
    "                continue;\n",
    "csvFile.close()        \n",
    "\"\"\"       \n",
    "    \n",
    "for index_location,row_location in locations.iterrows():\n",
    "    if(str(locations['city_ascii'][index_location]).lower() in clean_text(\"http://careers.bankofamerica.com/job-detail/18073821/united-states/us/sr-agile-product-owner-jersey-city\")):\n",
    "        print(str(locations['city_ascii'][index_location]).lower())"
   ]
  },
  {
   "cell_type": "code",
   "execution_count": 37,
   "metadata": {},
   "outputs": [
    {
     "name": "stdout",
     "output_type": "stream",
     "text": [
      "True\n",
      "True\n",
      "True\n",
      "False\n",
      "False\n"
     ]
    }
   ],
   "source": [
    "import string\n",
    "\n",
    "def find_substring(needle, haystack):\n",
    "    index = haystack.find(needle)\n",
    "    if index == -1:\n",
    "        return False\n",
    "    if index != 0 and haystack[index-1] not in string.whitespace:\n",
    "        return False\n",
    "    L = index + len(needle)\n",
    "    if L < len(haystack) and haystack[L] not in string.whitespace:\n",
    "        return False\n",
    "    return True\n",
    "\n",
    "\n",
    "string2 = \"united states jersey city\"\n",
    "print(find_substring(\"jersey city\", string2))\n",
    "print(find_substring(\"united\", string2))\n",
    "print(find_substring(\"jersey\", string2))\n",
    "print(find_substring(\"y city\", string2))\n",
    "print(find_substring(\"tate\", string2))"
   ]
  },
  {
   "cell_type": "code",
   "execution_count": null,
   "metadata": {},
   "outputs": [],
   "source": []
  },
  {
   "cell_type": "code",
   "execution_count": null,
   "metadata": {},
   "outputs": [],
   "source": []
  },
  {
   "cell_type": "code",
   "execution_count": null,
   "metadata": {},
   "outputs": [],
   "source": []
  },
  {
   "cell_type": "code",
   "execution_count": null,
   "metadata": {},
   "outputs": [],
   "source": []
  }
 ],
 "metadata": {
  "kernelspec": {
   "display_name": "Python 3",
   "language": "python",
   "name": "python3"
  },
  "language_info": {
   "codemirror_mode": {
    "name": "ipython",
    "version": 3
   },
   "file_extension": ".py",
   "mimetype": "text/x-python",
   "name": "python",
   "nbconvert_exporter": "python",
   "pygments_lexer": "ipython3",
   "version": "3.7.1"
  }
 },
 "nbformat": 4,
 "nbformat_minor": 2
}
