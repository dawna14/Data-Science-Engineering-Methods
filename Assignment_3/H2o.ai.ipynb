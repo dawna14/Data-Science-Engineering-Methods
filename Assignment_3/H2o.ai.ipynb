{
 "cells": [
  {
   "cell_type": "code",
   "execution_count": null,
   "metadata": {},
   "outputs": [],
   "source": [
    "import pandas as pd"
   ]
  },
  {
   "cell_type": "code",
   "execution_count": null,
   "metadata": {},
   "outputs": [],
   "source": [
    "loan=pd.read_csv('loan.csv',low_memory=False)"
   ]
  },
  {
   "cell_type": "code",
   "execution_count": null,
   "metadata": {},
   "outputs": [],
   "source": [
    "total_num = loan.isnull().sum().sort_values(ascending=False)\n",
    "\n",
    "perc = loan.isnull().sum()/loan.isnull().count() *100\n",
    "perc1 = (round(perc,2).sort_values(ascending=False))\n",
    "\n",
    "# Creating a data frame:\n",
    "df_miss = pd.concat([total_num, perc1], axis =1 , keys =[\"Total Missing Values\", \"Percentage %\"]).sort_values(by =\"Percentage %\", ascending = False)\n",
    "top_mis = df_miss[df_miss[\"Percentage %\"]>0]\n",
    "top_mis.reset_index(inplace=True)\n",
    "\n",
    "loan.drop(top_mis[top_mis[\"Percentage %\"]>75][\"index\"], axis = 1, inplace=True)\n",
    "loan.drop([\"next_pymnt_d\",\"mths_since_last_delinq\"]\n",
    "        , axis = 1, inplace=True)\n",
    "loan.drop([\"last_pymnt_d\", \"last_credit_pull_d\", \"earliest_cr_line\", \"issue_d\", \"addr_state\"], axis =1 , inplace = True)\n",
    "loan[\"tot_cur_bal\"] = loan[\"tot_cur_bal\"].fillna(loan[\"tot_cur_bal\"].mean())\n",
    "\n",
    "loan[\"tot_coll_amt\"] = loan[\"tot_coll_amt\"].fillna(0)\n",
    "\n",
    "loan[\"emp_length\"]=loan[\"emp_length\"].fillna(0)\n",
    "\n",
    "loan[\"revol_util\"]= loan[\"revol_util\"].fillna(loan[\"revol_util\"].mean())\n",
    "\n",
    "loan[\"collections_12_mths_ex_med\"]= loan[\"collections_12_mths_ex_med\"].fillna(loan[\"collections_12_mths_ex_med\"].mean())\n",
    "\n",
    "loan[\"acc_now_delinq\"]=loan[\"acc_now_delinq\"].fillna(loan[\"acc_now_delinq\"].mode())\n",
    "\n",
    "loan[\"delinq_2yrs\"]=loan[\"delinq_2yrs\"].fillna(0)\n",
    "\n",
    "loan[\"inq_last_6mths\"]= loan[\"inq_last_6mths\"].fillna(0)\n",
    "\n",
    "loan[\"pub_rec\"]= loan[\"pub_rec\"].fillna(0)\n",
    "\n",
    "loan[\"acc_now_delinq\"]= loan[\"acc_now_delinq\"].fillna(0)\n",
    "\n",
    "loan[\"open_acc\"]= loan[\"open_acc\"].fillna(loan[\"open_acc\"].mean())"
   ]
  },
  {
   "cell_type": "code",
   "execution_count": null,
   "metadata": {},
   "outputs": [],
   "source": [
    "loan.dropna(axis=0,inplace=True)"
   ]
  },
  {
   "cell_type": "code",
   "execution_count": null,
   "metadata": {},
   "outputs": [],
   "source": [
    "# Determining the loans that are bad from loan_status column\n",
    "import numpy as np\n",
    "bad_loan = [\"Charged Off\", \"Default\", \"Does not meet the credit policy. Status:Charged Off\", \"In Grace Period\", \n",
    "            \"Late (16-30 days)\", \"Late (31-120 days)\"]\n",
    "\n",
    "# Defining a new column loan_condition to qualify good/ bad loans\n",
    "loan['loan_condition'] = np.nan\n",
    "\n",
    "\n",
    "def loan_condition(status):\n",
    "    if status in bad_loan:\n",
    "        return 'Bad Loan'\n",
    "    else:\n",
    "        return 'Good Loan'\n",
    "    \n",
    "#calling function using data frame  \n",
    "loan['loan_condition'] = loan['loan_status'].apply(loan_condition)"
   ]
  },
  {
   "cell_type": "code",
   "execution_count": null,
   "metadata": {},
   "outputs": [],
   "source": [
    "# Let's create categories for annual_income since most of the bad loans are located below 100k\n",
    "import numpy as np\n",
    "loan['income_category'] = np.nan\n",
    "lst = [loan]\n",
    "\n",
    "for col in lst:\n",
    "    col.loc[col['annual_inc'] <= 100000, 'income_category'] = 'Low'\n",
    "    col.loc[(col['annual_inc'] > 100000) & (col['annual_inc'] <= 200000), 'income_category'] = 'Medium'\n",
    "    col.loc[col['annual_inc'] > 200000, 'income_category'] = 'High' "
   ]
  },
  {
   "cell_type": "code",
   "execution_count": null,
   "metadata": {},
   "outputs": [],
   "source": [
    "loan['loan_condition_int'] = np.nan"
   ]
  },
  {
   "cell_type": "code",
   "execution_count": null,
   "metadata": {},
   "outputs": [],
   "source": [
    "# Converting loan_condition (Good / Bad) into (1 / 0) integer\n",
    "\n",
    "loan['loan_condition_int'] = np.nan\n",
    "def to_int1(condition):\n",
    "    if condition == 'Good Loan':\n",
    "        return 1\n",
    "    elif condition == 'Bad Loan':\n",
    "        return 0\n",
    "\n",
    "loan['loan_condition_int'] = loan['loan_condition'].apply(to_int1)"
   ]
  },
  {
   "cell_type": "code",
   "execution_count": null,
   "metadata": {},
   "outputs": [],
   "source": [
    "employment_length = ['10+ years', '< 1 year', '1 year', '3 years', '8 years', '9 years',\n",
    "                    '4 years', '5 years', '6 years', '2 years', '7 years', 'n/a']\n",
    "\n",
    "# Create a new column and convert emp_length to integers.\n",
    "\n",
    "lst = [loan]\n",
    "loan['emp_length_int'] = np.nan\n",
    "\n",
    "for col in lst:\n",
    "    col.loc[col['emp_length'] == '10+ years', \"emp_length_int\"] = 10\n",
    "    col.loc[col['emp_length'] == '9 years', \"emp_length_int\"] = 9\n",
    "    col.loc[col['emp_length'] == '8 years', \"emp_length_int\"] = 8\n",
    "    col.loc[col['emp_length'] == '7 years', \"emp_length_int\"] = 7\n",
    "    col.loc[col['emp_length'] == '6 years', \"emp_length_int\"] = 6\n",
    "    col.loc[col['emp_length'] == '5 years', \"emp_length_int\"] = 5\n",
    "    col.loc[col['emp_length'] == '4 years', \"emp_length_int\"] = 4\n",
    "    col.loc[col['emp_length'] == '3 years', \"emp_length_int\"] = 3\n",
    "    col.loc[col['emp_length'] == '2 years', \"emp_length_int\"] = 2\n",
    "    col.loc[col['emp_length'] == '1 year', \"emp_length_int\"] = 1\n",
    "    col.loc[col['emp_length'] == '< 1 year', \"emp_length_int\"] = 0.5\n",
    "    col.loc[col['emp_length'] == 'n/a', \"emp_length_int\"] = 0"
   ]
  },
  {
   "cell_type": "code",
   "execution_count": null,
   "metadata": {},
   "outputs": [],
   "source": [
    "X = loan[['installment','inq_last_6mths',\n",
    "       'open_acc', 'pub_rec', 'revol_bal', 'revol_util', 'total_pymnt',\n",
    "       'total_pymnt_inv','total_rec_int',\n",
    "       'tot_coll_amt', 'tot_cur_bal',\n",
    "        'loan_condition_int']].copy()\n",
    "X.head()"
   ]
  },
  {
   "cell_type": "code",
   "execution_count": null,
   "metadata": {},
   "outputs": [],
   "source": [
    "Y = loan['int_rate']"
   ]
  },
  {
   "cell_type": "code",
   "execution_count": null,
   "metadata": {},
   "outputs": [],
   "source": [
    "from sklearn.preprocessing import MinMaxScaler"
   ]
  },
  {
   "cell_type": "code",
   "execution_count": null,
   "metadata": {},
   "outputs": [],
   "source": [
    "features = X.columns.values\n",
    "\n",
    "features"
   ]
  },
  {
   "cell_type": "code",
   "execution_count": null,
   "metadata": {},
   "outputs": [],
   "source": [
    "sc = MinMaxScaler(feature_range= (0,1))\n",
    "X = pd.DataFrame(sc.fit_transform(X), columns= features)"
   ]
  },
  {
   "cell_type": "code",
   "execution_count": null,
   "metadata": {},
   "outputs": [],
   "source": [
    "X.head(5)"
   ]
  },
  {
   "cell_type": "code",
   "execution_count": null,
   "metadata": {},
   "outputs": [],
   "source": [
    "from sklearn.model_selection import cross_val_score, train_test_split\n",
    "X_train, X_test, Y_train, Y_test = train_test_split(X, Y, test_size=0.2, random_state=42)"
   ]
  },
  {
   "cell_type": "code",
   "execution_count": null,
   "metadata": {},
   "outputs": [],
   "source": [
    "new_df=pd.Dataframe()\n",
    "new_df=loan[['installment','inq_last_6mths',\n",
    "       'open_acc', 'pub_rec', 'revol_bal', 'revol_util', 'total_pymnt',\n",
    "       'total_pymnt_inv','total_rec_int',\n",
    "       'tot_coll_amt', 'tot_cur_bal',\n",
    "        'loan_condition_int','int_rate']].copy()"
   ]
  },
  {
   "cell_type": "markdown",
   "metadata": {},
   "source": [
    "### Using H2o to find the best model:"
   ]
  },
  {
   "cell_type": "code",
   "execution_count": null,
   "metadata": {},
   "outputs": [],
   "source": [
    "import h2o\n",
    "from h2o.automl import H2OAutoML\n",
    "h2o.init()"
   ]
  },
  {
   "cell_type": "code",
   "execution_count": null,
   "metadata": {},
   "outputs": [],
   "source": [
    "new_df.to_csv('final_data.csv')"
   ]
  },
  {
   "cell_type": "code",
   "execution_count": null,
   "metadata": {},
   "outputs": [],
   "source": [
    "df = h2o.import_file('final_data.csv')\n",
    "df.head()"
   ]
  },
  {
   "cell_type": "code",
   "execution_count": null,
   "metadata": {},
   "outputs": [],
   "source": [
    "df.describe()"
   ]
  },
  {
   "cell_type": "code",
   "execution_count": null,
   "metadata": {},
   "outputs": [],
   "source": [
    "df['target'] = df['int_rate'].asfactor()\n",
    "df.head()"
   ]
  },
  {
   "cell_type": "code",
   "execution_count": null,
   "metadata": {},
   "outputs": [],
   "source": [
    "df.describe()"
   ]
  },
  {
   "cell_type": "code",
   "execution_count": null,
   "metadata": {},
   "outputs": [],
   "source": [
    "y = \"target\"\n",
    "x = features.tolist()"
   ]
  },
  {
   "cell_type": "code",
   "execution_count": null,
   "metadata": {},
   "outputs": [],
   "source": [
    "aml = H2OAutoML(max_models = 10, max_runtime_secs=120, seed = 1)\n",
    "aml.train(x = x, y = y, training_frame= df)"
   ]
  },
  {
   "cell_type": "code",
   "execution_count": null,
   "metadata": {},
   "outputs": [],
   "source": [
    "lb = aml.leaderboard\n",
    "lb.head()"
   ]
  }
 ],
 "metadata": {
  "kernelspec": {
   "display_name": "Python 3",
   "language": "python",
   "name": "python3"
  },
  "language_info": {
   "codemirror_mode": {
    "name": "ipython",
    "version": 3
   },
   "file_extension": ".py",
   "mimetype": "text/x-python",
   "name": "python",
   "nbconvert_exporter": "python",
   "pygments_lexer": "ipython3",
   "version": "3.7.0"
  }
 },
 "nbformat": 4,
 "nbformat_minor": 2
}
